{
 "cells": [
  {
   "cell_type": "code",
   "execution_count": 1,
   "id": "799d44c8",
   "metadata": {},
   "outputs": [],
   "source": [
    "import matplotlib.pyplot as plt\n",
    "import numpy as np"
   ]
  },
  {
   "cell_type": "code",
   "execution_count": 2,
   "id": "666dcbee",
   "metadata": {},
   "outputs": [],
   "source": [
    "from sklearn.cluster import AgglomerativeClustering\n",
    "from sklearn.ensemble import RandomForestClassifier\n",
    "from sklearn.linear_model import LinearRegression"
   ]
  },
  {
   "cell_type": "code",
   "execution_count": 3,
   "id": "90dc71a4",
   "metadata": {},
   "outputs": [],
   "source": [
    "from sklearn.neural_network import MLPClassifier\n",
    "from sklearn import metrics"
   ]
  },
  {
   "cell_type": "code",
   "execution_count": 4,
   "id": "f3d67a04",
   "metadata": {},
   "outputs": [],
   "source": [
    "from sklearn.model_selection import train_test_split\n",
    "from sklearn.metrics import confusion_matrix, classification_report, accuracy_score, ConfusionMatrixDisplay"
   ]
  },
  {
   "cell_type": "code",
   "execution_count": 5,
   "id": "a216f5b7",
   "metadata": {},
   "outputs": [],
   "source": [
    "from sklearn.neighbors import NearestNeighbors\n",
    "from sklearn.mixture import GaussianMixture"
   ]
  },
  {
   "cell_type": "code",
   "execution_count": 6,
   "id": "c4f2a155",
   "metadata": {},
   "outputs": [],
   "source": [
    "import warnings\n",
    "warnings.filterwarnings(\"ignore\")"
   ]
  },
  {
   "cell_type": "code",
   "execution_count": 7,
   "id": "4bcd47e7",
   "metadata": {},
   "outputs": [
    {
     "name": "stderr",
     "output_type": "stream",
     "text": [
      "WARNING: Package(s) not found: bayesian-optimization\n"
     ]
    }
   ],
   "source": [
    "!pip show bayesian-optimization"
   ]
  },
  {
   "cell_type": "code",
   "execution_count": 8,
   "id": "9a760541",
   "metadata": {},
   "outputs": [
    {
     "name": "stdout",
     "output_type": "stream",
     "text": [
      "Defaulting to user installation because normal site-packages is not writeable\n",
      "Collecting bayesian-optimization\n",
      "  Downloading bayesian_optimization-1.4.3-py3-none-any.whl (18 kB)\n",
      "Requirement already satisfied: numpy>=1.9.0 in c:\\programdata\\anaconda3\\lib\\site-packages (from bayesian-optimization) (1.23.5)\n",
      "Requirement already satisfied: scikit-learn>=0.18.0 in c:\\programdata\\anaconda3\\lib\\site-packages (from bayesian-optimization) (1.2.1)\n",
      "Requirement already satisfied: scipy>=1.0.0 in c:\\programdata\\anaconda3\\lib\\site-packages (from bayesian-optimization) (1.10.0)\n",
      "Requirement already satisfied: colorama>=0.4.6 in c:\\programdata\\anaconda3\\lib\\site-packages (from bayesian-optimization) (0.4.6)\n",
      "Requirement already satisfied: joblib>=1.1.1 in c:\\programdata\\anaconda3\\lib\\site-packages (from scikit-learn>=0.18.0->bayesian-optimization) (1.1.1)\n",
      "Requirement already satisfied: threadpoolctl>=2.0.0 in c:\\programdata\\anaconda3\\lib\\site-packages (from scikit-learn>=0.18.0->bayesian-optimization) (2.2.0)\n",
      "Installing collected packages: bayesian-optimization\n",
      "Successfully installed bayesian-optimization-1.4.3\n"
     ]
    }
   ],
   "source": [
    "!pip install bayesian-optimization"
   ]
  },
  {
   "cell_type": "code",
   "execution_count": 9,
   "id": "eca52828",
   "metadata": {},
   "outputs": [],
   "source": [
    "from bayes_opt import BayesianOptimization, UtilityFunction"
   ]
  },
  {
   "cell_type": "code",
   "execution_count": 10,
   "id": "14fb1703",
   "metadata": {},
   "outputs": [
    {
     "name": "stdout",
     "output_type": "stream",
     "text": [
      "Defaulting to user installation because normal site-packages is not writeable\n",
      "Collecting boruta\n",
      "  Using cached Boruta-0.3-py3-none-any.whl (56 kB)\n",
      "Requirement already satisfied: scipy>=0.17.0 in c:\\programdata\\anaconda3\\lib\\site-packages (from boruta) (1.10.0)\n",
      "Requirement already satisfied: numpy>=1.10.4 in c:\\programdata\\anaconda3\\lib\\site-packages (from boruta) (1.23.5)\n",
      "Requirement already satisfied: scikit-learn>=0.17.1 in c:\\programdata\\anaconda3\\lib\\site-packages (from boruta) (1.2.1)\n",
      "Requirement already satisfied: joblib>=1.1.1 in c:\\programdata\\anaconda3\\lib\\site-packages (from scikit-learn>=0.17.1->boruta) (1.1.1)\n",
      "Requirement already satisfied: threadpoolctl>=2.0.0 in c:\\programdata\\anaconda3\\lib\\site-packages (from scikit-learn>=0.17.1->boruta) (2.2.0)\n",
      "Installing collected packages: boruta\n",
      "Successfully installed boruta-0.3\n"
     ]
    }
   ],
   "source": [
    "!pip install boruta"
   ]
  },
  {
   "cell_type": "code",
   "execution_count": 11,
   "id": "5fd3d9ad",
   "metadata": {},
   "outputs": [],
   "source": [
    "from explainer_tabular import LimeTabularExplainer, Sklearn_Lime"
   ]
  },
  {
   "cell_type": "code",
   "execution_count": 12,
   "id": "f44ca0f9",
   "metadata": {},
   "outputs": [],
   "source": [
    "from load_hugaDBdataset2 import LoadDataset"
   ]
  },
  {
   "cell_type": "code",
   "execution_count": 13,
   "id": "d2f14a7d",
   "metadata": {},
   "outputs": [],
   "source": [
    "test = LoadDataset()\n",
    "X = test.data.data\n",
    "Y = test.data.target"
   ]
  },
  {
   "cell_type": "code",
   "execution_count": 14,
   "id": "03c2f608",
   "metadata": {},
   "outputs": [
    {
     "data": {
      "text/plain": [
       "array([[-7868, -1336, 13400, ...,    -3,     9,   120],\n",
       "       [-7956, -1384, 13468, ...,    -3,     7,   120],\n",
       "       [-7892, -1348, 13492, ...,    -7,     9,   120],\n",
       "       ...,\n",
       "       [-7944, -1248, 13292, ...,    -6,    -8,   120],\n",
       "       [-7920, -1332, 13392, ...,    -5,    -3,   120],\n",
       "       [-7868, -1288, 13384, ...,    -5,     7,   120]], dtype=int64)"
      ]
     },
     "execution_count": 14,
     "metadata": {},
     "output_type": "execute_result"
    }
   ],
   "source": [
    "X"
   ]
  },
  {
   "cell_type": "code",
   "execution_count": 15,
   "id": "2e17b0b5",
   "metadata": {},
   "outputs": [
    {
     "data": {
      "text/plain": [
       "array([0, 0, 0, ..., 0, 0, 0])"
      ]
     },
     "execution_count": 15,
     "metadata": {},
     "output_type": "execute_result"
    }
   ],
   "source": [
    "Y"
   ]
  },
  {
   "cell_type": "code",
   "execution_count": 16,
   "id": "9f2239d6",
   "metadata": {},
   "outputs": [
    {
     "data": {
      "text/plain": [
       "['accelerometer_right_foot_x',\n",
       " 'accelerometer_right_foot_y',\n",
       " 'accelerometer_right_foot_z',\n",
       " 'gyroscope_right_foot_x',\n",
       " 'gyroscope_right_foot_y',\n",
       " 'gyroscope_right_foot_z',\n",
       " 'accelerometer_right_shin_x',\n",
       " 'accelerometer_right_shin_y',\n",
       " 'accelerometer_right_shin_z',\n",
       " 'gyroscope_right_shin_x',\n",
       " 'gyroscope_right_shin_y',\n",
       " 'gyroscope_right_shin_z',\n",
       " 'accelerometer_right_thigh_x',\n",
       " 'accelerometer_right_thigh_y',\n",
       " 'accelerometer_right_thigh_z',\n",
       " 'gyroscope_right_thigh_x',\n",
       " 'gyroscope_right_thigh_y',\n",
       " 'gyroscope_right_thigh_z',\n",
       " 'accelerometer_left_foot_x',\n",
       " 'accelerometer_left_foot_y',\n",
       " 'accelerometer_left_foot_z',\n",
       " 'gyroscope_left_foot_x',\n",
       " 'gyroscope_left_foot_y',\n",
       " 'gyroscope_left_foot_z',\n",
       " 'accelerometer_left_shin_x',\n",
       " 'accelerometer_left_shin_y',\n",
       " 'accelerometer_left_shin_z',\n",
       " 'gyroscope_left_shin_x',\n",
       " 'gyroscope_left_shin_y',\n",
       " 'gyroscope_left_shin_z',\n",
       " 'accelerometer_left_thigh_x',\n",
       " 'accelerometer_left_thigh_y',\n",
       " 'accelerometer_left_thigh_z',\n",
       " 'gyroscope_left_thigh_x',\n",
       " 'gyroscope_left_thigh_y',\n",
       " 'gyroscope_left_thigh_z',\n",
       " 'EMG_right',\n",
       " 'EMG_left',\n",
       " 'activity']"
      ]
     },
     "execution_count": 16,
     "metadata": {},
     "output_type": "execute_result"
    }
   ],
   "source": [
    "feature_names = test.data.feature_names\n",
    "feature_names"
   ]
  },
  {
   "cell_type": "code",
   "execution_count": 17,
   "id": "b83658fe",
   "metadata": {},
   "outputs": [
    {
     "data": {
      "text/plain": [
       "array(['sitting', 'standing'], dtype='<U8')"
      ]
     },
     "execution_count": 17,
     "metadata": {},
     "output_type": "execute_result"
    }
   ],
   "source": [
    "target_names = test.data.target_names\n",
    "target_names"
   ]
  },
  {
   "cell_type": "code",
   "execution_count": 18,
   "id": "9728e471",
   "metadata": {},
   "outputs": [],
   "source": [
    "x_train, x_test, y_train, y_test = train_test_split(X, Y, test_size=0.2, shuffle=False)"
   ]
  },
  {
   "cell_type": "code",
   "execution_count": 19,
   "id": "28e529d4",
   "metadata": {},
   "outputs": [
    {
     "data": {
      "text/html": [
       "<style>#sk-container-id-1 {color: black;background-color: white;}#sk-container-id-1 pre{padding: 0;}#sk-container-id-1 div.sk-toggleable {background-color: white;}#sk-container-id-1 label.sk-toggleable__label {cursor: pointer;display: block;width: 100%;margin-bottom: 0;padding: 0.3em;box-sizing: border-box;text-align: center;}#sk-container-id-1 label.sk-toggleable__label-arrow:before {content: \"▸\";float: left;margin-right: 0.25em;color: #696969;}#sk-container-id-1 label.sk-toggleable__label-arrow:hover:before {color: black;}#sk-container-id-1 div.sk-estimator:hover label.sk-toggleable__label-arrow:before {color: black;}#sk-container-id-1 div.sk-toggleable__content {max-height: 0;max-width: 0;overflow: hidden;text-align: left;background-color: #f0f8ff;}#sk-container-id-1 div.sk-toggleable__content pre {margin: 0.2em;color: black;border-radius: 0.25em;background-color: #f0f8ff;}#sk-container-id-1 input.sk-toggleable__control:checked~div.sk-toggleable__content {max-height: 200px;max-width: 100%;overflow: auto;}#sk-container-id-1 input.sk-toggleable__control:checked~label.sk-toggleable__label-arrow:before {content: \"▾\";}#sk-container-id-1 div.sk-estimator input.sk-toggleable__control:checked~label.sk-toggleable__label {background-color: #d4ebff;}#sk-container-id-1 div.sk-label input.sk-toggleable__control:checked~label.sk-toggleable__label {background-color: #d4ebff;}#sk-container-id-1 input.sk-hidden--visually {border: 0;clip: rect(1px 1px 1px 1px);clip: rect(1px, 1px, 1px, 1px);height: 1px;margin: -1px;overflow: hidden;padding: 0;position: absolute;width: 1px;}#sk-container-id-1 div.sk-estimator {font-family: monospace;background-color: #f0f8ff;border: 1px dotted black;border-radius: 0.25em;box-sizing: border-box;margin-bottom: 0.5em;}#sk-container-id-1 div.sk-estimator:hover {background-color: #d4ebff;}#sk-container-id-1 div.sk-parallel-item::after {content: \"\";width: 100%;border-bottom: 1px solid gray;flex-grow: 1;}#sk-container-id-1 div.sk-label:hover label.sk-toggleable__label {background-color: #d4ebff;}#sk-container-id-1 div.sk-serial::before {content: \"\";position: absolute;border-left: 1px solid gray;box-sizing: border-box;top: 0;bottom: 0;left: 50%;z-index: 0;}#sk-container-id-1 div.sk-serial {display: flex;flex-direction: column;align-items: center;background-color: white;padding-right: 0.2em;padding-left: 0.2em;position: relative;}#sk-container-id-1 div.sk-item {position: relative;z-index: 1;}#sk-container-id-1 div.sk-parallel {display: flex;align-items: stretch;justify-content: center;background-color: white;position: relative;}#sk-container-id-1 div.sk-item::before, #sk-container-id-1 div.sk-parallel-item::before {content: \"\";position: absolute;border-left: 1px solid gray;box-sizing: border-box;top: 0;bottom: 0;left: 50%;z-index: -1;}#sk-container-id-1 div.sk-parallel-item {display: flex;flex-direction: column;z-index: 1;position: relative;background-color: white;}#sk-container-id-1 div.sk-parallel-item:first-child::after {align-self: flex-end;width: 50%;}#sk-container-id-1 div.sk-parallel-item:last-child::after {align-self: flex-start;width: 50%;}#sk-container-id-1 div.sk-parallel-item:only-child::after {width: 0;}#sk-container-id-1 div.sk-dashed-wrapped {border: 1px dashed gray;margin: 0 0.4em 0.5em 0.4em;box-sizing: border-box;padding-bottom: 0.4em;background-color: white;}#sk-container-id-1 div.sk-label label {font-family: monospace;font-weight: bold;display: inline-block;line-height: 1.2em;}#sk-container-id-1 div.sk-label-container {text-align: center;}#sk-container-id-1 div.sk-container {/* jupyter's `normalize.less` sets `[hidden] { display: none; }` but bootstrap.min.css set `[hidden] { display: none !important; }` so we also need the `!important` here to be able to override the default hidden behavior on the sphinx rendered scikit-learn.org. See: https://github.com/scikit-learn/scikit-learn/issues/21755 */display: inline-block !important;position: relative;}#sk-container-id-1 div.sk-text-repr-fallback {display: none;}</style><div id=\"sk-container-id-1\" class=\"sk-top-container\"><div class=\"sk-text-repr-fallback\"><pre>MLPClassifier(alpha=1e-05, hidden_layer_sizes=(5, 2), random_state=0,\n",
       "              solver=&#x27;lbfgs&#x27;)</pre><b>In a Jupyter environment, please rerun this cell to show the HTML representation or trust the notebook. <br />On GitHub, the HTML representation is unable to render, please try loading this page with nbviewer.org.</b></div><div class=\"sk-container\" hidden><div class=\"sk-item\"><div class=\"sk-estimator sk-toggleable\"><input class=\"sk-toggleable__control sk-hidden--visually\" id=\"sk-estimator-id-1\" type=\"checkbox\" checked><label for=\"sk-estimator-id-1\" class=\"sk-toggleable__label sk-toggleable__label-arrow\">MLPClassifier</label><div class=\"sk-toggleable__content\"><pre>MLPClassifier(alpha=1e-05, hidden_layer_sizes=(5, 2), random_state=0,\n",
       "              solver=&#x27;lbfgs&#x27;)</pre></div></div></div></div></div>"
      ],
      "text/plain": [
       "MLPClassifier(alpha=1e-05, hidden_layer_sizes=(5, 2), random_state=0,\n",
       "              solver='lbfgs')"
      ]
     },
     "execution_count": 19,
     "metadata": {},
     "output_type": "execute_result"
    }
   ],
   "source": [
    "nn = MLPClassifier(solver='lbfgs', alpha=1e-5, hidden_layer_sizes=(5, 2), random_state=0)\n",
    "nn.fit(x_train, y_train)"
   ]
  },
  {
   "cell_type": "code",
   "execution_count": 20,
   "id": "a84b7cec",
   "metadata": {},
   "outputs": [
    {
     "data": {
      "text/plain": [
       "array([0, 0, 0, ..., 0, 0, 0])"
      ]
     },
     "execution_count": 20,
     "metadata": {},
     "output_type": "execute_result"
    }
   ],
   "source": [
    "y_pred = nn.predict(x_test)\n",
    "y_pred"
   ]
  },
  {
   "cell_type": "code",
   "execution_count": 21,
   "id": "6cbf9b05",
   "metadata": {},
   "outputs": [
    {
     "data": {
      "text/plain": [
       "0.5116731517509727"
      ]
     },
     "execution_count": 21,
     "metadata": {},
     "output_type": "execute_result"
    }
   ],
   "source": [
    "accuracy = accuracy_score(y_test, y_pred.round())\n",
    "accuracy"
   ]
  },
  {
   "cell_type": "code",
   "execution_count": 22,
   "id": "0c748f3e",
   "metadata": {},
   "outputs": [
    {
     "data": {
      "image/png": "[encoded data removed]",
      "text/plain": [
       "<Figure size 800x600 with 2 Axes>"
      ]
     },
     "metadata": {},
     "output_type": "display_data"
    }
   ],
   "source": [
    "cm = confusion_matrix(y_test, y_pred)\n",
    "disp = ConfusionMatrixDisplay(confusion_matrix=cm, display_labels=nn.classes_)\n",
    "fig, ax = plt.subplots(figsize=(8, 6))\n",
    "disp.plot(ax=ax)\n",
    "ax.set_title(\"Confusion Matrix for hugaDB Dataset\")\n",
    "plt.show()"
   ]
  },
  {
   "cell_type": "code",
   "execution_count": 23,
   "id": "3ed599cc",
   "metadata": {},
   "outputs": [
    {
     "data": {
      "text/plain": [
       "'              precision    recall  f1-score   support\\n\\n           0       0.51      1.00      0.68       789\\n           1       0.00      0.00      0.00       753\\n\\n    accuracy                           0.51      1542\\n   macro avg       0.26      0.50      0.34      1542\\nweighted avg       0.26      0.51      0.35      1542\\n'"
      ]
     },
     "execution_count": 23,
     "metadata": {},
     "output_type": "execute_result"
    }
   ],
   "source": [
    "classification_report(y_test, y_pred)"
   ]
  },
  {
   "cell_type": "code",
   "execution_count": 24,
   "id": "24a12e31",
   "metadata": {},
   "outputs": [],
   "source": [
    "i = np.random.randint(0, x_test.shape[0])"
   ]
  },
  {
   "cell_type": "code",
   "execution_count": 25,
   "id": "7db35455",
   "metadata": {},
   "outputs": [
    {
     "data": {
      "text/plain": [
       "array([[-7868, -1336, 13400, ...,     9,   120,     1],\n",
       "       [-7956, -1384, 13468, ...,     7,   120,     1],\n",
       "       [-7892, -1348, 13492, ...,     9,   120,     1],\n",
       "       ...,\n",
       "       [-7944, -1248, 13292, ...,    -8,   120,     1],\n",
       "       [-7920, -1332, 13392, ...,    -3,   120,     1],\n",
       "       [-7868, -1288, 13384, ...,     7,   120,     1]], dtype=int64)"
      ]
     },
     "execution_count": 25,
     "metadata": {},
     "output_type": "execute_result"
    }
   ],
   "source": [
    "#GMM clustering\n",
    "model = GaussianMixture(n_components=4).fit(X)\n",
    "labels = model.predict(X)\n",
    "names = list(feature_names)+[\"membership\"]\n",
    "clustered_data = np.column_stack([X,labels])\n",
    "clustered_data"
   ]
  },
  {
   "cell_type": "code",
   "execution_count": 26,
   "id": "dbd0b6e1",
   "metadata": {},
   "outputs": [],
   "source": [
    "#KNN classification\n",
    "nbrs = NearestNeighbors(n_neighbors=1, algorithm='ball_tree').fit(x_train)\n",
    "distances, indices = nbrs.kneighbors(x_test)\n",
    "clabel = labels"
   ]
  },
  {
   "cell_type": "code",
   "execution_count": 27,
   "id": "46e18a3c",
   "metadata": {},
   "outputs": [],
   "source": [
    "def jaccard_similarity(list1, list2):\n",
    "    s1 = set(list1)\n",
    "    s2 = set(list2)\n",
    "    return len(s1.intersection(s2)) / len(s1.union(s2))"
   ]
  },
  {
   "cell_type": "code",
   "execution_count": 28,
   "id": "94383ee0",
   "metadata": {},
   "outputs": [],
   "source": [
    "def jaccard_distance(usecase):\n",
    "    sim = []\n",
    "    for l in usecase:\n",
    "        i_sim = []\n",
    "        for j in usecase:\n",
    "            i_sim.append(1 - jaccard_similarity(l, j))\n",
    "        sim.append(i_sim)\n",
    "    return sim"
   ]
  },
  {
   "cell_type": "code",
   "execution_count": 29,
   "id": "465b236f",
   "metadata": {},
   "outputs": [],
   "source": [
    "x = 4\n",
    "maxRsquared=0.9\n",
    "clustered_data2 = np.delete(clustered_data, 37, axis=1)"
   ]
  },
  {
   "cell_type": "code",
   "execution_count": 30,
   "id": "d79e5823",
   "metadata": {},
   "outputs": [],
   "source": [
    "def OptiLIME_loss(kernel_width):\n",
    "    single_lime = Sklearn_Lime(mode=\"classification\",\n",
    "                               verbose=False,\n",
    "                               discretize_continuous=True,\n",
    "                               kernel_width=kernel_width,\n",
    "                               maxRsquared=maxRsquared,\n",
    "                               epsilon=None,\n",
    "                               clustered_data =clustered_data2)\n",
    "                                                           \n",
    "    single_lime.fit(clustered_data2)\n",
    " \n",
    "    return single_lime.score(clustered_data2[x,:], nn.predict_proba)"
   ]
  },
  {
   "cell_type": "code",
   "execution_count": 31,
   "id": "dd12c4be",
   "metadata": {},
   "outputs": [
    {
     "name": "stdout",
     "output_type": "stream",
     "text": [
      "|   iter    |  target   | kernel... |\n",
      "-------------------------------------\n"
     ]
    },
    {
     "ename": "TypeError",
     "evalue": "Sklearn_Lime.__init__() got an unexpected keyword argument 'epsilon'",
     "output_type": "error",
     "traceback": [
      "\u001b[1;31m---------------------------------------------------------------------------\u001b[0m",
      "\u001b[1;31mTypeError\u001b[0m                                 Traceback (most recent call last)",
      "Cell \u001b[1;32mIn[31], line 3\u001b[0m\n\u001b[0;32m      1\u001b[0m pbounds\u001b[38;5;241m=\u001b[39m{\u001b[38;5;124m'\u001b[39m\u001b[38;5;124mkernel_width\u001b[39m\u001b[38;5;124m'\u001b[39m:[\u001b[38;5;241m0.1\u001b[39m,\u001b[38;5;241m1.0\u001b[39m]}\n\u001b[0;32m      2\u001b[0m optimizer\u001b[38;5;241m=\u001b[39mBayesianOptimization(f\u001b[38;5;241m=\u001b[39mOptiLIME_loss, pbounds\u001b[38;5;241m=\u001b[39mpbounds,verbose\u001b[38;5;241m=\u001b[39m\u001b[38;5;241m2\u001b[39m,random_state\u001b[38;5;241m=\u001b[39m\u001b[38;5;241m4\u001b[39m)\n\u001b[1;32m----> 3\u001b[0m \u001b[43moptimizer\u001b[49m\u001b[38;5;241;43m.\u001b[39;49m\u001b[43mmaximize\u001b[49m\u001b[43m(\u001b[49m\u001b[43minit_points\u001b[49m\u001b[38;5;241;43m=\u001b[39;49m\u001b[38;5;241;43m5\u001b[39;49m\u001b[43m,\u001b[49m\u001b[43mn_iter\u001b[49m\u001b[38;5;241;43m=\u001b[39;49m\u001b[38;5;241;43m10\u001b[39;49m\u001b[43m)\u001b[49m\n\u001b[0;32m      4\u001b[0m best_width \u001b[38;5;241m=\u001b[39moptimizer\u001b[38;5;241m.\u001b[39mmax[\u001b[38;5;124m\"\u001b[39m\u001b[38;5;124mparams\u001b[39m\u001b[38;5;124m\"\u001b[39m][\u001b[38;5;124m\"\u001b[39m\u001b[38;5;124mkernel_width\u001b[39m\u001b[38;5;124m\"\u001b[39m]\n\u001b[0;32m      6\u001b[0m best_width\n",
      "File \u001b[1;32m~\\AppData\\Roaming\\Python\\Python310\\site-packages\\bayes_opt\\bayesian_optimization.py:310\u001b[0m, in \u001b[0;36mBayesianOptimization.maximize\u001b[1;34m(self, init_points, n_iter, acquisition_function, acq, kappa, kappa_decay, kappa_decay_delay, xi, **gp_params)\u001b[0m\n\u001b[0;32m    308\u001b[0m     x_probe \u001b[38;5;241m=\u001b[39m \u001b[38;5;28mself\u001b[39m\u001b[38;5;241m.\u001b[39msuggest(util)\n\u001b[0;32m    309\u001b[0m     iteration \u001b[38;5;241m+\u001b[39m\u001b[38;5;241m=\u001b[39m \u001b[38;5;241m1\u001b[39m\n\u001b[1;32m--> 310\u001b[0m \u001b[38;5;28;43mself\u001b[39;49m\u001b[38;5;241;43m.\u001b[39;49m\u001b[43mprobe\u001b[49m\u001b[43m(\u001b[49m\u001b[43mx_probe\u001b[49m\u001b[43m,\u001b[49m\u001b[43m \u001b[49m\u001b[43mlazy\u001b[49m\u001b[38;5;241;43m=\u001b[39;49m\u001b[38;5;28;43;01mFalse\u001b[39;49;00m\u001b[43m)\u001b[49m\n\u001b[0;32m    312\u001b[0m \u001b[38;5;28;01mif\u001b[39;00m \u001b[38;5;28mself\u001b[39m\u001b[38;5;241m.\u001b[39m_bounds_transformer \u001b[38;5;129;01mand\u001b[39;00m iteration \u001b[38;5;241m>\u001b[39m \u001b[38;5;241m0\u001b[39m:\n\u001b[0;32m    313\u001b[0m     \u001b[38;5;66;03m# The bounds transformer should only modify the bounds after\u001b[39;00m\n\u001b[0;32m    314\u001b[0m     \u001b[38;5;66;03m# the init_points points (only for the true iterations)\u001b[39;00m\n\u001b[0;32m    315\u001b[0m     \u001b[38;5;28mself\u001b[39m\u001b[38;5;241m.\u001b[39mset_bounds(\n\u001b[0;32m    316\u001b[0m         \u001b[38;5;28mself\u001b[39m\u001b[38;5;241m.\u001b[39m_bounds_transformer\u001b[38;5;241m.\u001b[39mtransform(\u001b[38;5;28mself\u001b[39m\u001b[38;5;241m.\u001b[39m_space))\n",
      "File \u001b[1;32m~\\AppData\\Roaming\\Python\\Python310\\site-packages\\bayes_opt\\bayesian_optimization.py:208\u001b[0m, in \u001b[0;36mBayesianOptimization.probe\u001b[1;34m(self, params, lazy)\u001b[0m\n\u001b[0;32m    206\u001b[0m     \u001b[38;5;28mself\u001b[39m\u001b[38;5;241m.\u001b[39m_queue\u001b[38;5;241m.\u001b[39madd(params)\n\u001b[0;32m    207\u001b[0m \u001b[38;5;28;01melse\u001b[39;00m:\n\u001b[1;32m--> 208\u001b[0m     \u001b[38;5;28;43mself\u001b[39;49m\u001b[38;5;241;43m.\u001b[39;49m\u001b[43m_space\u001b[49m\u001b[38;5;241;43m.\u001b[39;49m\u001b[43mprobe\u001b[49m\u001b[43m(\u001b[49m\u001b[43mparams\u001b[49m\u001b[43m)\u001b[49m\n\u001b[0;32m    209\u001b[0m     \u001b[38;5;28mself\u001b[39m\u001b[38;5;241m.\u001b[39mdispatch(Events\u001b[38;5;241m.\u001b[39mOPTIMIZATION_STEP)\n",
      "File \u001b[1;32m~\\AppData\\Roaming\\Python\\Python310\\site-packages\\bayes_opt\\target_space.py:236\u001b[0m, in \u001b[0;36mTargetSpace.probe\u001b[1;34m(self, params)\u001b[0m\n\u001b[0;32m    234\u001b[0m x \u001b[38;5;241m=\u001b[39m \u001b[38;5;28mself\u001b[39m\u001b[38;5;241m.\u001b[39m_as_array(params)\n\u001b[0;32m    235\u001b[0m params \u001b[38;5;241m=\u001b[39m \u001b[38;5;28mdict\u001b[39m(\u001b[38;5;28mzip\u001b[39m(\u001b[38;5;28mself\u001b[39m\u001b[38;5;241m.\u001b[39m_keys, x))\n\u001b[1;32m--> 236\u001b[0m target \u001b[38;5;241m=\u001b[39m \u001b[38;5;28mself\u001b[39m\u001b[38;5;241m.\u001b[39mtarget_func(\u001b[38;5;241m*\u001b[39m\u001b[38;5;241m*\u001b[39mparams)\n\u001b[0;32m    238\u001b[0m \u001b[38;5;28;01mif\u001b[39;00m \u001b[38;5;28mself\u001b[39m\u001b[38;5;241m.\u001b[39m_constraint \u001b[38;5;129;01mis\u001b[39;00m \u001b[38;5;28;01mNone\u001b[39;00m:\n\u001b[0;32m    239\u001b[0m     \u001b[38;5;28mself\u001b[39m\u001b[38;5;241m.\u001b[39mregister(x, target)\n",
      "Cell \u001b[1;32mIn[30], line 2\u001b[0m, in \u001b[0;36mOptiLIME_loss\u001b[1;34m(kernel_width)\u001b[0m\n\u001b[0;32m      1\u001b[0m \u001b[38;5;28;01mdef\u001b[39;00m \u001b[38;5;21mOptiLIME_loss\u001b[39m(kernel_width):\n\u001b[1;32m----> 2\u001b[0m     single_lime \u001b[38;5;241m=\u001b[39m \u001b[43mSklearn_Lime\u001b[49m\u001b[43m(\u001b[49m\u001b[43mmode\u001b[49m\u001b[38;5;241;43m=\u001b[39;49m\u001b[38;5;124;43m\"\u001b[39;49m\u001b[38;5;124;43mclassification\u001b[39;49m\u001b[38;5;124;43m\"\u001b[39;49m\u001b[43m,\u001b[49m\n\u001b[0;32m      3\u001b[0m \u001b[43m                               \u001b[49m\u001b[43mverbose\u001b[49m\u001b[38;5;241;43m=\u001b[39;49m\u001b[38;5;28;43;01mFalse\u001b[39;49;00m\u001b[43m,\u001b[49m\n\u001b[0;32m      4\u001b[0m \u001b[43m                               \u001b[49m\u001b[43mdiscretize_continuous\u001b[49m\u001b[38;5;241;43m=\u001b[39;49m\u001b[38;5;28;43;01mTrue\u001b[39;49;00m\u001b[43m,\u001b[49m\n\u001b[0;32m      5\u001b[0m \u001b[43m                               \u001b[49m\u001b[43mkernel_width\u001b[49m\u001b[38;5;241;43m=\u001b[39;49m\u001b[43mkernel_width\u001b[49m\u001b[43m,\u001b[49m\n\u001b[0;32m      6\u001b[0m \u001b[43m                               \u001b[49m\u001b[43mmaxRsquared\u001b[49m\u001b[38;5;241;43m=\u001b[39;49m\u001b[43mmaxRsquared\u001b[49m\u001b[43m,\u001b[49m\n\u001b[0;32m      7\u001b[0m \u001b[43m                               \u001b[49m\u001b[43mepsilon\u001b[49m\u001b[38;5;241;43m=\u001b[39;49m\u001b[38;5;28;43;01mNone\u001b[39;49;00m\u001b[43m,\u001b[49m\n\u001b[0;32m      8\u001b[0m \u001b[43m                               \u001b[49m\u001b[43mclustered_data\u001b[49m\u001b[43m \u001b[49m\u001b[38;5;241;43m=\u001b[39;49m\u001b[43mclustered_data2\u001b[49m\u001b[43m)\u001b[49m\n\u001b[0;32m     10\u001b[0m     single_lime\u001b[38;5;241m.\u001b[39mfit(clustered_data2)\n\u001b[0;32m     12\u001b[0m     \u001b[38;5;28;01mreturn\u001b[39;00m single_lime\u001b[38;5;241m.\u001b[39mscore(clustered_data2[x,:], nn\u001b[38;5;241m.\u001b[39mpredict_proba)\n",
      "\u001b[1;31mTypeError\u001b[0m: Sklearn_Lime.__init__() got an unexpected keyword argument 'epsilon'"
     ]
    }
   ],
   "source": [
    "pbounds={'kernel_width':[0.1,1.0]}\n",
    "optimizer=BayesianOptimization(f=OptiLIME_loss, pbounds=pbounds,verbose=2,random_state=4)\n",
    "optimizer.maximize(init_points=5,n_iter=10)\n",
    "best_width =optimizer.max[\"params\"][\"kernel_width\"]\n",
    "\n",
    "best_width"
   ]
  },
  {
   "cell_type": "code",
   "execution_count": null,
   "id": "7a23b562",
   "metadata": {},
   "outputs": [],
   "source": [
    "lime_exp=[]\n",
    "elime_exp = []"
   ]
  },
  {
   "cell_type": "code",
   "execution_count": null,
   "id": "b5dfdf64",
   "metadata": {},
   "outputs": [],
   "source": [
    "explainer = LimeTabularExplainer(x_train,\n",
    "                                 mode=\"classification\",\n",
    "                                 verbose=False,\n",
    "                                 discretize_continuous=True,\n",
    "                                 feature_names=feature_names,\n",
    "                                 class_names=target_names,\n",
    "                                 kernel_width=best_width,\n",
    "                                 )"
   ]
  },
  {
   "cell_type": "code",
   "execution_count": null,
   "id": "b946c65a",
   "metadata": {},
   "outputs": [],
   "source": [
    "for i in range(0, 10):\n",
    "        p_label = clabel[indices[x]]\n",
    "        N = clustered_data[clustered_data[:,37] == clabel[p_label]]\n",
    "        subset = np.delete(N, 37, axis=1)\n",
    "                  \n",
    "        exp_elime = explainer.explain_instance_gmmclust(x_test[x],\n",
    "                                             nn.predict_proba,\n",
    "                                             num_features=10,\n",
    "                                             model_regressor=LinearRegression(),\n",
    "                                             clustered_data = subset,\n",
    "                                             regressor = 'linear', explainer='elime', labels=(0,1))\n",
    "        exp_elime.show_in_notebook(show_table=True)\n",
    "       \n",
    "        fig_elime, r_features = exp_elime.as_pyplot_to_figure(type='h', name = i+.6, label='0')\n",
    "        elime_exp.append(r_features)\n",
    "        \n",
    "\n",
    "        exp_lime = explainer.explain_instance_gmmclust(x_test[x],\n",
    "                                             nn.predict_proba,\n",
    "                                             num_features=10,\n",
    "                                             model_regressor=LinearRegression(),\n",
    "                                             regressor = 'linear', explainer='lime', labels=(0,1))\n",
    "        exp_lime.show_in_notebook(show_table=True)\n",
    "\n",
    "        fig_elime, r_features = exp_lime.as_pyplot_to_figure(type='h', name = i+.5, label='0')\n",
    "        lime_exp.append(r_features)"
   ]
  },
  {
   "cell_type": "code",
   "execution_count": null,
   "id": "c7a41460",
   "metadata": {},
   "outputs": [],
   "source": [
    "sim = jaccard_distance(elime_exp)\n",
    "np.savetxt(\"results/rf_dlime_jdist_ildp.csv\", sim, delimiter=\",\")\n",
    "print(np.asarray(sim).mean())\n",
    "plt.matshow(sim);\n",
    "plt.colorbar()"
   ]
  },
  {
   "cell_type": "code",
   "execution_count": null,
   "id": "601b5829",
   "metadata": {},
   "outputs": [],
   "source": []
  }
 ],
 "metadata": {
  "kernelspec": {
   "display_name": "Python 3 (ipykernel)",
   "language": "python",
   "name": "python3"
  },
  "language_info": {
   "codemirror_mode": {
    "name": "ipython",
    "version": 3
   },
   "file_extension": ".py",
   "mimetype": "text/x-python",
   "name": "python",
   "nbconvert_exporter": "python",
   "pygments_lexer": "ipython3",
   "version": "3.10.9"
  }
 },
 "nbformat": 4,
 "nbformat_minor": 5
}
